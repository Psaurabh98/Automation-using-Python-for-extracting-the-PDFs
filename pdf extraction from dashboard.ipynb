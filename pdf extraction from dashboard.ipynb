{
 "cells": [
  {
   "cell_type": "markdown",
   "id": "9d6f4a17-9c62-4443-9492-e4bf63e51268",
   "metadata": {},
   "source": [
    "Installing & Importing Neccessary Packages"
   ]
  },
  {
   "cell_type": "code",
   "execution_count": null,
   "id": "73234470-3430-4f55-9df7-4f8750bf0fa8",
   "metadata": {},
   "outputs": [],
   "source": [
    "#Installing necessary packages\n",
    "\n",
    "!pip install tableau-api-lib"
   ]
  },
  {
   "cell_type": "code",
   "execution_count": 23,
   "id": "edf457d1-cac5-457a-a1c3-6dc859c8e5b2",
   "metadata": {},
   "outputs": [],
   "source": [
    "#Importing necesssary packages\n",
    "import pandas as pd\n",
    "import os\n",
    "import urllib.parse\n",
    "import time\n",
    "import urllib\n",
    "from tableau_api_lib import TableauServerConnection as TSC\n",
    "from tableau_api_lib.utils import querying,flatten_dict_column"
   ]
  },
  {
   "cell_type": "markdown",
   "id": "644bff98-ad3f-4932-8106-4c2a953ab497",
   "metadata": {},
   "source": [
    "Setting up the configuration to connect to tableau server "
   ]
  },
  {
   "cell_type": "code",
   "execution_count": 25,
   "id": "63717a88-187d-4b2a-886c-a375f507cc99",
   "metadata": {},
   "outputs": [],
   "source": [
    "\n",
    "#setting up the Configuration which we will use for connecting python with tableau server or tableau cloud\n",
    "config={\n",
    "\n",
    "    'SP':{                        #\"SP\" is name of the environment , you can give any name to it\n",
    "    'server': \"https:///********\", #name of your server where your dashboard is published\n",
    "    'api_version': '3.##' ,\n",
    "    'personal_access_token_name': \"P#####\", # name of the personal token which you can create by going to your account settings\n",
    "    'personal_access_token_secret': \"##############\", # Secret key of the personal token which you can create by going to your account settings\n",
    "    'site_name': \"########\", #site name where you are publishing your dashboard\n",
    "    'site_url': \"###########\"}  #site url where you are publishing your dashboard\n",
    "\n",
    "}"
   ]
  },
  {
   "cell_type": "code",
   "execution_count": null,
   "id": "8c00e948-1bb0-4370-9b04-7b58844580c2",
   "metadata": {},
   "outputs": [],
   "source": [
    "conn=TSC (config,env='SP')\n",
    "conn.sign_in()   # signing in the server using credentials \n",
    "# if you get \"<Response [200]>\" then you are good to go"
   ]
  },
  {
   "cell_type": "markdown",
   "id": "d5ab0140-9410-4e2d-9ba8-4d0fffd81fe0",
   "metadata": {},
   "source": [
    "Creating dataframes to get the necessaary information about the dashboard from which we are going to extract pdfs like workbook folder ,dashboard name , view id etc..."
   ]
  },
  {
   "cell_type": "code",
   "execution_count": null,
   "id": "d8a63918-fff0-4d33-895c-caad8514a96d",
   "metadata": {},
   "outputs": [],
   "source": [
    "views_df=querying.get_views_dataframe (conn) #creating dataframe having column fields like workbook, owner, project, location, id etc..."
   ]
  },
  {
   "cell_type": "code",
   "execution_count": null,
   "id": "1aeffb15-03ac-47e6-8413-2094d952481c",
   "metadata": {},
   "outputs": [],
   "source": [
    "views_df.head() #having a quick look at the dataset"
   ]
  },
  {
   "cell_type": "code",
   "execution_count": null,
   "id": "fa0fee42-624c-4386-ade6-57216c7c02fd",
   "metadata": {},
   "outputs": [],
   "source": [
    "views_wb_info=flatten_dict_column(\n",
    "    df=views_df\n",
    "    keys=[\"name\",\"id\"]\n",
    "    col_name='workbook'\n",
    ") #flattening the necesssary information from workbook column as it contains information in the form of dictionary"
   ]
  },
  {
   "cell_type": "code",
   "execution_count": null,
   "id": "a6a3da0b-d05b-4ed9-9975-162d2347bdbe",
   "metadata": {},
   "outputs": [],
   "source": [
    "views_wb_info.head()  #having  a quick look at the dataset"
   ]
  },
  {
   "cell_type": "code",
   "execution_count": null,
   "id": "7fb46f76-a5ba-48ef-9a7a-a6903023ebca",
   "metadata": {},
   "outputs": [],
   "source": [
    "views_wb_and_project_info=flatten_dict_column(\n",
    "    df=views_wb_info\n",
    "    keys=[\"name\",\"id\"]\n",
    "    col_name='project'\n",
    ") #flattening the necesssary information from project column as it contains information in the form of dictionary"
   ]
  },
  {
   "cell_type": "code",
   "execution_count": null,
   "id": "8b6e6cb1-51fa-42a7-baec-441233c66fb4",
   "metadata": {},
   "outputs": [],
   "source": [
    "views_wb_and_project_info.head() #having a quick look at the dataset"
   ]
  },
  {
   "cell_type": "code",
   "execution_count": null,
   "id": "c4a3db46-ad20-4d9f-be99-2b84563ffcec",
   "metadata": {},
   "outputs": [],
   "source": [
    "views_wb_and_project_info=views_wb_and_project_info[views_wb_and_project_info['project name']=='######']# name of your project folder where you have kept your dashboard"
   ]
  },
  {
   "cell_type": "code",
   "execution_count": null,
   "id": "8430599a-6375-4941-a72a-0ddc62ee89c8",
   "metadata": {},
   "outputs": [],
   "source": [
    "views_wb_and_project_info=views_wb_and_project_info[views_wb_and_project_info['workbook name']=='######'] # name of your tableau workbook "
   ]
  },
  {
   "cell_type": "code",
   "execution_count": null,
   "id": "0559b9d1-1ef5-43d4-b861-52849bc511a1",
   "metadata": {},
   "outputs": [],
   "source": [
    "df=pd.read_excel(\"###########') #reading the excel where our values of our filters are present"
   ]
  },
  {
   "cell_type": "code",
   "execution_count": null,
   "id": "c197fc71-ea3c-49da-9fd0-3d747e9bd98a",
   "metadata": {},
   "outputs": [],
   "source": [
    "eco_value=df['Region'].to_list() #extracting the necessary column having filter values from excel and converting it to list so that we can loop over it"
   ]
  },
  {
   "cell_type": "code",
   "execution_count": null,
   "id": "621cf315-5bfc-427a-b411-8e5569b98c8a",
   "metadata": {},
   "outputs": [],
   "source": [
    "eco_code=df['Code'].to_list() #extracting the necessary column having filter codes from excel and converting it to list so that we can loop over it"
   ]
  },
  {
   "cell_type": "code",
   "execution_count": 37,
   "id": "c222053f-9a81-4882-8f23-e45355620e1c",
   "metadata": {},
   "outputs": [
    {
     "ename": "SyntaxError",
     "evalue": "incomplete input (592535059.py, line 10)",
     "output_type": "error",
     "traceback": [
      "\u001b[1;36m  Cell \u001b[1;32mIn[37], line 10\u001b[1;36m\u001b[0m\n\u001b[1;33m    custom_url_para={\u001b[0m\n\u001b[1;37m                     ^\u001b[0m\n\u001b[1;31mSyntaxError\u001b[0m\u001b[1;31m:\u001b[0m incomplete input\n"
     ]
    }
   ],
   "source": [
    "ecosystem_fil=urllib.parse.quote('Region') #name of the exact filter which you are using in your dashboard\n",
    "view_id=\"##############\" # view_id means id of your dashboards in the workbook\n",
    "folder=\"######\" #name of the folder where you want to store your pdfs output\n",
    "os.makedirs(folder,exist_ok=True) #creation of folder if it doesn't exists\n",
    "\n",
    "for i, j in zip(eco_value,eco_code):   #mapping each value of eco_value with eco_code\n",
    "    eco_list=[i,'####'] #customising it as per the need of the filter values which we needed\n",
    "    #encode each value individually and join it with %2C\n",
    "    ecosystem_fil_value=\"%2C\".join(urllib.parse.quote(e.strip()) for e in eco_list)\n",
    "    custom_url_para={                                            #customising the url_para as per the need , this is going to filter the values in the workbook\n",
    "    \"Ecosystem\":f\"vf_{ecosystem_fil}={ecosystem_fil_value}\",}\n",
    "    print(f\"request params for{j} : {custom_url_para}\")\n",
    "\n",
    "    view_pdf_response=conn.query_view_pdf(view_id=view_id,parameter_dict=custom_url_para)  ##getting the pdf response\n",
    "\n",
    "\n",
    "    #It will be useful if the pdfs are not getting printed, error checking code\n",
    "    if view_pdf_response_code !=200:\n",
    "        print(f\"Error: Received Status code {view_pdf_response.status_code} for {j}\")\n",
    "        continue\n",
    "    \n",
    "    if b '%PDF' not in view_pdf_response_content [:10]:\n",
    "        print(f\"Warning : Response for {j} does not appear to be a PDF!\")\n",
    "        print (view_pdf_response.content[:200]) #Debug output\n",
    "        continue\n",
    "\n",
    "    file_path=os.path.join(folder,f\"{j}.pdf\")  #here we are creating the file path for each value of the filter\n",
    "    with open (file_path,\"wb\") as f:\n",
    "        f.write(view_pdf_response.content)  # here we are writing content of the response of the pdf in the mentioned filepath\n",
    "    print(f\"Saved Pdf for {j} at {file_path} (os.path.getsize(file_path)} bytes)\") #if succesfully print , we will get this in the output\n",
    "    time.sleep(1) #giving pause of 1 second \n",
    "\n",
    "print(\"Done\") #successfully completed\n",
    "      "
   ]
  },
  {
   "cell_type": "code",
   "execution_count": null,
   "id": "07d5e2ae-f554-424f-833e-d5ac17080c9a",
   "metadata": {},
   "outputs": [],
   "source": []
  }
 ],
 "metadata": {
  "kernelspec": {
   "display_name": "Python [conda env:base] *",
   "language": "python",
   "name": "conda-base-py"
  },
  "language_info": {
   "codemirror_mode": {
    "name": "ipython",
    "version": 3
   },
   "file_extension": ".py",
   "mimetype": "text/x-python",
   "name": "python",
   "nbconvert_exporter": "python",
   "pygments_lexer": "ipython3",
   "version": "3.12.7"
  }
 },
 "nbformat": 4,
 "nbformat_minor": 5
}
